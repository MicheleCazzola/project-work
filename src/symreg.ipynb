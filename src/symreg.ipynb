{
  "cells": [
    {
      "cell_type": "markdown",
      "metadata": {},
      "source": [
        "# Symbolic regression with GP"
      ]
    },
    {
      "cell_type": "markdown",
      "metadata": {},
      "source": [
        "## Imports"
      ]
    },
    {
      "cell_type": "code",
      "execution_count": 1,
      "metadata": {
        "id": "-gOZa0lMshw3"
      },
      "outputs": [],
      "source": [
        "import numpy as np\n",
        "from tqdm.auto import tqdm\n",
        "from dataclasses import dataclass\n",
        "from typing import Union\n",
        "import matplotlib.pyplot as plt\n",
        "from copy import deepcopy\n",
        "import random\n",
        "import networkx as nx\n",
        "from sklearn.model_selection import train_test_split, KFold\n",
        "from enum import Enum\n",
        "from statistics import mean"
      ]
    },
    {
      "cell_type": "markdown",
      "metadata": {},
      "source": [
        "## Colab setup"
      ]
    },
    {
      "cell_type": "code",
      "execution_count": 2035,
      "metadata": {
        "colab": {
          "base_uri": "https://localhost:8080/"
        },
        "id": "ckUyoBVHskPW",
        "outputId": "6a1677ed-19cd-4e9e-c5e3-4f540b9b20d6"
      },
      "outputs": [],
      "source": [
        "# from google.colab import drive\n",
        "# drive.mount(\"/content/drive\")\n",
        "#!unzip /content/drive/MyDrive/CI_shared/data.zip"
      ]
    },
    {
      "cell_type": "markdown",
      "metadata": {},
      "source": [
        "## Foundation classes"
      ]
    },
    {
      "cell_type": "markdown",
      "metadata": {},
      "source": [
        "### OperatorCollection\n",
        "A simple collection of operators, either in NumPy or native Python."
      ]
    },
    {
      "cell_type": "code",
      "execution_count": 2036,
      "metadata": {
        "id": "-6ZHHRJGshw5"
      },
      "outputs": [],
      "source": [
        "class OperatorCollection:\n",
        "\n",
        "    def add(x, y):\n",
        "        return x + y\n",
        "\n",
        "    def sub(x, y):\n",
        "        return x - y\n",
        "\n",
        "    def mul(x, y):\n",
        "        return x * y\n",
        "\n",
        "    def neg(x):\n",
        "        return -x\n",
        "\n",
        "    def abs(x):\n",
        "        return np.abs(x)\n",
        "\n",
        "    def sin(x):\n",
        "        return np.sin(x)\n",
        "\n",
        "    def cos(x):\n",
        "        return np.cos(x)\n",
        "    \n",
        "    def exp(x):\n",
        "        return np.exp(x)\n",
        "    \n",
        "    def cosh(x):\n",
        "        return np.cosh(x)\n",
        "    \n",
        "    def sinh(x):\n",
        "        return np.sinh(x)\n"
      ]
    },
    {
      "cell_type": "markdown",
      "metadata": {},
      "source": [
        "### Operator\n",
        "A class to handle operators and their characteristics."
      ]
    },
    {
      "cell_type": "code",
      "execution_count": 2037,
      "metadata": {},
      "outputs": [],
      "source": [
        "class Operator:\n",
        "    def __init__(self, symbol, function, in_params):\n",
        "        self.symbol = symbol\n",
        "        self.function = function\n",
        "        self.arity = in_params\n",
        "\n",
        "    def __call__(self, *args):\n",
        "        return self.function(*args)\n",
        "\n",
        "    def __str__(self):\n",
        "        return self.symbol\n",
        "\n",
        "    def __repr__(self):\n",
        "        return self.symbol"
      ]
    },
    {
      "cell_type": "markdown",
      "metadata": {},
      "source": [
        "### Tree\n",
        "A class to handle the genome of individuals: each node is considered a tree itself."
      ]
    },
    {
      "cell_type": "code",
      "execution_count": 2038,
      "metadata": {
        "id": "XNs8CxvBshw6"
      },
      "outputs": [],
      "source": [
        "class Tree:\n",
        "    def __init__(\n",
        "        self,\n",
        "        max_depth: int = None,\n",
        "        operators: list[Operator] = None,\n",
        "        variables: list[str] = None,\n",
        "        constants_bounds: tuple[float, float] = (-1, 1),\n",
        "        min_constants_size: int = 1000,\n",
        "        constant_prob_leaf: float = 0.5\n",
        "    ):\n",
        "        \"\"\"Initialize a tree with a maximum depth, a list of operators, a list of variables, and bounds for the constants.\n",
        "        \n",
        "        Args:\n",
        "            max_depth (int): maximum depth of the tree (at creation)\n",
        "            operators (list[Operator]): list of operators\n",
        "            variables (list[str]): list of variables\n",
        "            constants_bounds (tuple[float, float]): bounds for the constants pool\n",
        "            min_constants_size (int): minimum size for the constants pool\n",
        "        \"\"\"\n",
        "        self.max_depth = max_depth\n",
        "        self.operators: list[Operator] = operators\n",
        "        self.variables = variables\n",
        "        self.constants_bounds = constants_bounds\n",
        "        self.root = None\n",
        "        self.children = []\n",
        "        self.constants_size = max(min_constants_size * int(constants_bounds[1] - constants_bounds[0]), min_constants_size)\n",
        "        self.constant_prob_leaf = constant_prob_leaf\n",
        "        self.depth = 0\n",
        "        self.len = 0\n",
        "\n",
        "    @property\n",
        "    def is_leaf(self):\n",
        "        return not self.children\n",
        "    \n",
        "    @property\n",
        "    def get_depth(self):\n",
        "        return self.depth\n",
        "    \n",
        "    def __len__(self):\n",
        "        return self.len\n",
        "\n",
        "    def _select_constants(self, size: int) -> list[float]:\n",
        "        \"\"\"\n",
        "        Randomly select a list of constants from the pool of constants.\n",
        "        \n",
        "        Args:\n",
        "            size (int): the number of constants to select\n",
        "        \n",
        "        Returns:\n",
        "            list[float]: the selected constants\n",
        "        \"\"\"\n",
        "        \n",
        "        constants = np.linspace(*self.constants_bounds, self.constants_size)\n",
        "        selected_constants = random.choices(constants, k=size)\n",
        "        return selected_constants\n",
        "\n",
        "    def _create_random_subtree(self, depth: int) -> tuple[\"Tree\", Union[str, Operator]]:\n",
        "        \"\"\"\n",
        "        Create a random subtree with a given starting depth.\n",
        "        \n",
        "        Args:\n",
        "            depth (int): the starting depth of the subtree\n",
        "            \n",
        "        Returns:\n",
        "            tuple[Tree, Union[str, Operator]]: the subtree object and the root content\n",
        "        \"\"\"\n",
        "        \n",
        "        # Leaf node (variable or constant)\n",
        "        if depth >= self.max_depth or random.random() < depth / self.max_depth:\n",
        "            subtree = Tree(self.max_depth, self.operators, self.variables, self.constants_bounds, self.constants_size)\n",
        "            num_constants = int(1 / (1 - self.constant_prob_leaf) * len(self.variables)) - 1\n",
        "            selected_constants = self._select_constants(num_constants)\n",
        "            chosen_value = random.choice(self.variables + selected_constants)\n",
        "            \n",
        "            # Return tree structure and root content\n",
        "            return subtree, chosen_value\n",
        "            \n",
        "        # Choose operator and create tree\n",
        "        operator: Operator = random.choice(self.operators)\n",
        "        num_params = operator.arity\n",
        "        tree = Tree(self.max_depth, self.operators, self.variables, self.constants_bounds, self.constants_size)\n",
        "        tree.root = operator\n",
        "        \n",
        "        # Recursively create children\n",
        "        for _ in range(num_params):\n",
        "            child, child_value = self._create_random_subtree(depth + 1)\n",
        "            child.root = child_value\n",
        "            tree.children.append(child)\n",
        "\n",
        "            assert child.root is not None, f\"Expected non-empty root, found {child.root}\"\n",
        "\n",
        "        # Return tree structure and root content\n",
        "        return tree, operator\n",
        "\n",
        "    # Implement point mutation\n",
        "    def _mutate_point(self) -> \"Tree\":\n",
        "        \"\"\"Mutate a random node in the tree with a randomly generated node.\n",
        "        \n",
        "        Returns:\n",
        "            Tree: a mutated tree\n",
        "        \"\"\"\n",
        "        \n",
        "        # Randomly choose a node\n",
        "        nodes = self._get_all_nodes()\n",
        "        node, _ = random.choice(nodes)\n",
        "        \n",
        "        # Mutate node\n",
        "        if not node.children:\n",
        "            # Leaf node\n",
        "            if random.random() < 0.5:\n",
        "                \n",
        "                # 50% variable or constant node\n",
        "                node.root = random.choice(self.variables)\n",
        "            else:\n",
        "                # 50% only constant node\n",
        "                node.root = random.choice(self.constants_bounds)\n",
        "        else:\n",
        "            # Operator node: preserve arity in mutation\n",
        "            node.root = random.choice([operator for operator in self.operators if operator.arity == node.root.arity])\n",
        "\n",
        "        return node\n",
        "\n",
        "    # Implement subtree mutation\n",
        "    def _mutate_subtree(self):\n",
        "        \"\"\"Mutate a random subtree with another randomly generated subtree.\"\"\"\n",
        "\n",
        "        # Choose a random node that is not a leaf\n",
        "        nodes = self._get_all_nodes()\n",
        "        leaves = self._get_all_leaves()\n",
        "        not_leaves = [node for node in nodes if node[0] not in leaves]\n",
        "\n",
        "        subtree, current_depth = random.choice(not_leaves)\n",
        "        num_children = len(subtree.children)\n",
        "\n",
        "        assert num_children > 0, f\"Expected at least one child, found {num_children}\"\n",
        "        \n",
        "        # Create a new subtree and replace the old one\n",
        "        pos = random.randint(0, num_children-1)\n",
        "        child, child_value = self._create_random_subtree(current_depth+1)\n",
        "\n",
        "        child.root = child_value\n",
        "        subtree.children[pos] = child\n",
        "        \n",
        "    # Get all nodes in the tree\n",
        "    def _get_all_nodes(self) -> list[tuple[\"Tree\", int]]:\n",
        "        \"\"\"Helper method to get all nodes in the tree.\n",
        "        \n",
        "        Returns:\n",
        "            list[tuple[Tree, int]]: list of tuples containing the node and its depth (0 for root)\n",
        "        \"\"\"\n",
        "        nodes = []\n",
        "        stack = [(self, 0)]\n",
        "\n",
        "        while stack:\n",
        "            \n",
        "            # Pop the node and its depth\n",
        "            node, depth = stack.pop()\n",
        "            \n",
        "            # Append the node and its depth to the list\n",
        "            nodes.append((node, depth))\n",
        "            \n",
        "            # Add children to the stack\n",
        "            children = list(zip(node.children, [depth + 1] * len(node.children)))\n",
        "            stack.extend(children)\n",
        "\n",
        "        return nodes\n",
        "\n",
        "    # Get all leaves in the tree\n",
        "    def _get_all_leaves(self) -> list[\"Tree\"]:\n",
        "        \"\"\"Helper method to get all leaves in the tree.\n",
        "        \n",
        "        Returns:\n",
        "            list[Tree]: list of leaf nodes\n",
        "        \"\"\"\n",
        "        leaves = []\n",
        "\n",
        "        # Traverse the tree in post-order\n",
        "        def traverse(node):\n",
        "            \n",
        "            # Leaf reached\n",
        "            if not node.children:\n",
        "                leaves.append(node)\n",
        "                \n",
        "            # Recursively traverse children\n",
        "            for child in node.children:\n",
        "                traverse(child)\n",
        "\n",
        "        traverse(self)\n",
        "        return leaves\n",
        "    \n",
        "    # Evaluate the tree for a given input dataset\n",
        "    def _evaluate(self, X: np.ndarray) -> np.ndarray:\n",
        "        \"\"\"Evaluate the tree for a given input.\n",
        "        \n",
        "        Args:\n",
        "            X (np.ndarray): the input data\n",
        "        \n",
        "        Returns:\n",
        "            np.ndarray: the output of the tree\n",
        "        \"\"\"\n",
        "        \n",
        "        # Recursively evaluate the tree for a given data point\n",
        "        def evaluate_node(node, x):\n",
        "            \n",
        "            # Leaf node\n",
        "            if not node.children:\n",
        "                # Variable node\n",
        "                if node.root in self.variables:\n",
        "                    return x[self.variables.index(node.root)]\n",
        "                return node.root\n",
        "            \n",
        "            # Operator node: recursively evaluate children\n",
        "            params = [evaluate_node(child, x) for child in node.children]\n",
        "            return node.root(*params)\n",
        "\n",
        "        return np.array([evaluate_node(self, row) for row in X.T])\n",
        "        \n",
        "    # Create a new individual\n",
        "    @staticmethod\n",
        "    def create_individual(operators: list[Operator], variables: list[str], constants_bounds: tuple[float, float], max_depth: int) -> \"Tree\":\n",
        "        \"\"\"Create a random individual (tree) with a maximum depth\n",
        "        \n",
        "        Args:\n",
        "            operators (list[Operator]): list of operators\n",
        "            variables (list[str]): list of variables\n",
        "            constants_bounds (tuple[float, float]): bounds for the constants\n",
        "            max_depth (int): maximum depth of the tree\n",
        "            \n",
        "        Returns:\n",
        "            Tree: a random tree\n",
        "        \"\"\"\n",
        "        \n",
        "        tree = Tree(max_depth, operators, variables, constants_bounds)\n",
        "        tree, _ = tree._create_random_subtree(0)\n",
        "        tree.depth = max([x[1] for x in tree._get_all_nodes()])\n",
        "        tree.len = len(tree._get_all_nodes())\n",
        "        return tree\n",
        "\n",
        "    @staticmethod\n",
        "    def mutate(tree: \"Tree\") -> \"Tree\":\n",
        "        \"\"\"Perform a random mutation on the tree with a given probability.\n",
        "        \n",
        "        Args:\n",
        "            tree (Tree): the tree to mutate\n",
        "            \n",
        "        Returns:\n",
        "            Tree: the mutated tree\n",
        "        \"\"\"\n",
        "        new_tree: Tree = deepcopy(tree)\n",
        "        mutation = random.choice([\n",
        "            new_tree._mutate_point,\n",
        "            new_tree._mutate_subtree\n",
        "        ])\n",
        "\n",
        "        mutation()\n",
        "        \n",
        "        new_tree.depth = max([x[1] for x in new_tree._get_all_nodes()])\n",
        "        new_tree.len = len(new_tree._get_all_nodes())\n",
        "\n",
        "        return new_tree\n",
        "\n",
        "    @staticmethod\n",
        "    def crossover(tree1: \"Tree\", tree2: \"Tree\") -> \"Tree\":\n",
        "        \"\"\"Perform crossover between two trees by exchanging a random subtree from tree1 with a subtree from tree2.\n",
        "        \n",
        "        Args:\n",
        "            tree1 (Tree): the first tree\n",
        "            tree2 (Tree): the second tree\n",
        "            \n",
        "        Returns:\n",
        "            Tree: the new tree after crossover\n",
        "        \"\"\"\n",
        "        \n",
        "        # Deep copy the first tree\n",
        "        new_tree = deepcopy(tree1)\n",
        "        \n",
        "        # Choose a random subtree from each tree\n",
        "        nodes_tree1 = new_tree._get_all_nodes()\n",
        "        nodes_tree2 = tree2._get_all_nodes()\n",
        "\n",
        "        # Perform crossover if both trees have more than one node\n",
        "        if len(nodes_tree1) > 1 and len(nodes_tree2) > 1:\n",
        "            \n",
        "            subtree1, _ = random.choice(nodes_tree1[1:])\n",
        "            subtree2, _ = random.choice(nodes_tree2[1:])\n",
        "            \n",
        "            subtree1.root = subtree2.root\n",
        "            subtree1.children = deepcopy(subtree2.children)\n",
        "            \n",
        "        # Update depth and length of the new tree\n",
        "        new_tree.depth = max([x[1] for x in new_tree._get_all_nodes()])\n",
        "        new_tree.len = len(new_tree._get_all_nodes())\n",
        "\n",
        "        return new_tree\n",
        "\n",
        "    @staticmethod\n",
        "    def merge(tree_list: list[\"Tree\"]) -> \"Tree\":\n",
        "        \"\"\"Merge a list of trees into a single tree by summing the outputs of the trees.\n",
        "        \n",
        "        Args:\n",
        "            tree_list (list[Tree]): list of trees to merge\n",
        "            \n",
        "        Returns:\n",
        "            Tree: the merged tree\n",
        "        \"\"\"\n",
        "        \n",
        "        # Define a generalized sum operator (with undefined arity)\n",
        "        def generalized_sum(*operands):\n",
        "            assert len(operands) > 1, f\"Expected at least 2 operands, found {len(operands)}\"\n",
        "\n",
        "            return sum(operands)\n",
        "        \n",
        "        # Create a new tree with the sum operator as the root\n",
        "        tree = Tree()\n",
        "        tree.root = Operator(\"+\", generalized_sum, len(tree_list))\n",
        "\n",
        "        # Set the children of the new tree to be the trees in the list\n",
        "        tree.children = tree_list\n",
        "        tree.variables = tree_list[0].variables\n",
        "        tree.max_depth = tree_list[0].max_depth + 1\n",
        "        tree.constants_bounds = tree_list[0].constants_bounds\n",
        "        tree.depth = max([x[1] for x in tree._get_all_nodes()])\n",
        "        tree.len = len(tree._get_all_nodes())\n",
        "\n",
        "        return tree\n",
        "    \n",
        "    @staticmethod\n",
        "    def mse(tree: \"Tree\", X: np.ndarray, y_target: np.ndarray, penalty: float = 0) -> float:\n",
        "        \"\"\"Calculate the mean squared error of the tree for a given input dataset and target.\n",
        "        \n",
        "        Args:\n",
        "            tree (Tree): the tree to evaluate\n",
        "            X (np.ndarray): the input dataset\n",
        "            y_target (np.ndarray): the target data\n",
        "            penalty (float): penalty for the tree size (number of nodes)\n",
        "            \n",
        "        Returns:\n",
        "            float: the mean squared error of the tree\n",
        "        \"\"\"\n",
        "        \n",
        "        # Evaluate the tree\n",
        "        y_pred = tree._evaluate(X)\n",
        "        \n",
        "        # Cast to inf if NaN values are present\n",
        "        if np.isnan(y_pred).any():\n",
        "            return np.inf\n",
        "        \n",
        "        return 100 * (1 + penalty * len(tree)) * (sum((a - b) ** 2 for a, b in zip(y_target, y_pred)) / len(y_target)).astype(float)\n",
        "\n",
        "    def to_math_notation(self) -> str:\n",
        "        \"\"\"Convert the tree to a string in mathematical notation.\n",
        "        \n",
        "        Returns:\n",
        "            str: the tree in mathematical notation\n",
        "        \"\"\"\n",
        "\n",
        "        # Map for operators with special notation\n",
        "        # Quick and dirty solution, but it works\n",
        "        SPECIAL_OPERATORS = {\n",
        "            \"cos(.)\": \"np.cos(*)\",\n",
        "            \"sin(.)\": \"np.sin(*)\",\n",
        "            \"|.|\": \"np.abs(*)\",\n",
        "            \"exp(.)\": \"np.exp(*)\",\n",
        "            \"cosh(.)\": \"np.cosh(*)\",\n",
        "            \"sinh(.)\": \"np.sinh(*)\"\n",
        "        }\n",
        "\n",
        "        # Traverse the tree in post-order\n",
        "        def traverse(node):\n",
        "            \n",
        "            # Leaf node\n",
        "            if not node.children:\n",
        "                \n",
        "                # Number in decimal notation\n",
        "                if (isinstance(node.root, float) or isinstance(node.root, int)) and abs(node.root) >= 0.001:\n",
        "                    write = f\"{node.root:.3f}\"\n",
        "                # Number in scientific notation\n",
        "                elif (isinstance(node.root, float) or isinstance(node.root, int)) and abs(node.root) < 0.001:\n",
        "                    write = f\"{node.root:.3e}\"\n",
        "                # Variable node\n",
        "                else:\n",
        "                    write = f\"{node.root[0]}[{node.root[1:]}]\"\n",
        "                \n",
        "                return write\n",
        "            \n",
        "            # Unary operator node\n",
        "            if len(node.children) == 1:\n",
        "                \n",
        "                # Function with dot in the notation\n",
        "                if \".\" in node.root.symbol:\n",
        "                    \n",
        "                    # Get pre and post parts of the function (i.e. parentheses)\n",
        "                    if node.root.symbol in SPECIAL_OPERATORS:\n",
        "                        symbol = SPECIAL_OPERATORS.get(node.root.symbol)\n",
        "                        pre, post = symbol.split(\"*\")\n",
        "                    else:\n",
        "                        pre, post = node.root.symbol.split(\".\")\n",
        "\n",
        "                    return f\"{pre}{traverse(node.children[0])}{post}\"\n",
        "\n",
        "                # Function without dot in the notation\n",
        "                return f\"{node.root.symbol}({traverse(node.children[0])})\"\n",
        "\n",
        "            # Binary operator node\n",
        "            if len(node.children) == 2:\n",
        "                \n",
        "                # Get left and right expressions\n",
        "                left_expr = traverse(node.children[0])\n",
        "                right_expr = traverse(node.children[1])\n",
        "\n",
        "                # Special case for operators with special notation (old piece of code used for division, but it works)\n",
        "                if node.root.symbol in SPECIAL_OPERATORS:\n",
        "                    symbol = SPECIAL_OPERATORS.get(node.root.symbol)\n",
        "                    symbol = symbol.replace(\"'x'\", left_expr)\n",
        "                    symbol = symbol.replace(\"'y'\", right_expr)\n",
        "                    return symbol\n",
        "\n",
        "                return f\"({left_expr} {node.root.symbol} {right_expr})\"\n",
        "            \n",
        "            # Special case for tree merge: N-ary operator node\n",
        "            else:   \n",
        "                \n",
        "                # Only tree merge operator is supported\n",
        "                assert node.root.symbol == \"+\", f\"Expected sum operator, found {node.root.symbol}\"\n",
        "\n",
        "                # Traverse all children\n",
        "                operands = [traverse(child) for child in node.children]\n",
        "\n",
        "                return f\" + \".join(operands)\n",
        "\n",
        "        return traverse(self)\n",
        "\n",
        "    def draw(self):\n",
        "        \"\"\"Draw the tree using networkx in a tree-like style.\"\"\"\n",
        "        G = nx.DiGraph()\n",
        "        labels = {}\n",
        "        node_id = 0\n",
        "\n",
        "        # Add nodes and edges to the graph\n",
        "        def add_nodes_edges(node, parent=None):\n",
        "            nonlocal node_id\n",
        "            \n",
        "            # Add edge to parent node\n",
        "            current_id = node_id\n",
        "            node_id += 1\n",
        "            if parent is not None:\n",
        "                G.add_edge(parent, current_id)\n",
        "                \n",
        "            # Formatting for operators with dot in the notation\n",
        "            # Quick and dirty solution, but it works  \n",
        "            SPECIAL_FORMATS = {\n",
        "                \"sin(.)\": \"sin\",\n",
        "                \"cos(.)\": \"cos\",\n",
        "                \"|.|\": \"abs\",\n",
        "                \"exp(.)\": \"exp\",\n",
        "                \"cosh(.)\": \"cosh\",\n",
        "                \"sinh(.)\": \"sinh\"\n",
        "            }\n",
        "            \n",
        "            # Operator node\n",
        "            if node.children:\n",
        "                write = str(SPECIAL_FORMATS.get(node.root.symbol, node.root.symbol))\n",
        "            # Number node in decimal notation\n",
        "            elif isinstance(node.root, float) and abs(node.root) >= 0.001:\n",
        "                write = str(f\"{node.root:.3f}\")\n",
        "            # Number node in scientific notation\n",
        "            elif isinstance(node.root, float) and abs(node.root) < 0.001:\n",
        "                write = str(f\"{node.root:.3e}\")\n",
        "            # Variable node\n",
        "            else:\n",
        "                write = str(node.root)\n",
        "\n",
        "            # Write node label\n",
        "            labels[current_id] = write\n",
        "            \n",
        "            # Recursively add children\n",
        "            for child in node.children:\n",
        "                add_nodes_edges(child, current_id)\n",
        "\n",
        "        # Define hierarchy positions for tree plotting, to avoid nodes to be overlapped in the plot\n",
        "        def hierarchy_pos(G: nx.DiGraph, root, width=1., vert_gap=0.2, vert_loc=0, xcenter=0.5):\n",
        "            \"\"\"\n",
        "            Define hierarchy positions for tree plotting.\n",
        "            \n",
        "            Args:\n",
        "                G: the graph (must be a tree)\n",
        "                root: the root node of current branch\n",
        "                width: horizontal space allocated for this branch - avoids overlap with other branches\n",
        "                vert_gap: gap between levels of hierarchy\n",
        "                vert_loc: vertical location of root\n",
        "                xcenter: horizontal location of root\n",
        "            \"\"\"\n",
        "            \n",
        "            # Set the position of the root node\n",
        "            pos = {root: (xcenter, vert_loc)}\n",
        "            \n",
        "            # Retrieve children of the root node\n",
        "            neighbors = list(G.neighbors(root))\n",
        "            \n",
        "            # If there are children, add them to the plot\n",
        "            if len(neighbors) != 0:\n",
        "                dx = width / len(neighbors)\n",
        "                nextx = xcenter - width/2 - dx/2\n",
        "                \n",
        "                # Recursively compute the positions of the children\n",
        "                for neighbor in neighbors:\n",
        "                    nextx += dx\n",
        "                    pos.update(hierarchy_pos(G, neighbor, width=dx, vert_gap=vert_gap, vert_loc=vert_loc-vert_gap, xcenter=nextx))\n",
        "            \n",
        "            return pos\n",
        "\n",
        "        # Add nodes and edges to the graph\n",
        "        add_nodes_edges(self)\n",
        "\n",
        "        # If the tree is empty, add a single node (should not happen in reality)\n",
        "        if not G.nodes:\n",
        "            G.add_node(0)\n",
        "\n",
        "        # Plot the tree, starting from root node position\n",
        "        pos = hierarchy_pos(G, min(G.nodes))\n",
        "        nx.draw(G, pos, with_labels=True, labels=labels, node_size=400, node_color='lightblue', font_size=10)\n",
        "\n",
        "    # String representation of the tree: using math notation\n",
        "    def __repr__(self):\n",
        "        return self.to_math_notation()\n",
        "    \n",
        "    # String representation of the tree: using math notation\n",
        "    def __str__(self):\n",
        "        return self.to_math_notation()"
      ]
    },
    {
      "cell_type": "markdown",
      "metadata": {},
      "source": [
        "### Individual\n",
        "Defined as a genome and a MSE."
      ]
    },
    {
      "cell_type": "code",
      "execution_count": 2039,
      "metadata": {
        "id": "REopJULDshxA"
      },
      "outputs": [],
      "source": [
        "@dataclass\n",
        "class Individual:\n",
        "    genome: Tree\n",
        "    mse: float"
      ]
    },
    {
      "cell_type": "markdown",
      "metadata": {},
      "source": [
        "## Operators"
      ]
    },
    {
      "cell_type": "code",
      "execution_count": 2040,
      "metadata": {},
      "outputs": [],
      "source": [
        "base_operators = [\n",
        "    Operator(\"+\", OperatorCollection.add, 2),\n",
        "    Operator(\"-\", OperatorCollection.sub, 2),\n",
        "    Operator(\"*\", OperatorCollection.mul, 2),\n",
        "    Operator(\"-\", OperatorCollection.neg, 1),\n",
        "    Operator(\"|.|\", OperatorCollection.abs, 1),\n",
        "    Operator(\"sin(.)\", OperatorCollection.sin, 1),\n",
        "    Operator(\"cos(.)\", OperatorCollection.cos, 1),\n",
        "]    \n",
        "\n",
        "exp_operators = [\n",
        "    Operator(\"exp(.)\", OperatorCollection.exp, 1),\n",
        "    Operator(\"cosh(.)\", OperatorCollection.cosh, 1),\n",
        "    Operator(\"sinh(.)\", OperatorCollection.sinh, 1),\n",
        "]"
      ]
    },
    {
      "cell_type": "markdown",
      "metadata": {},
      "source": [
        "## Problem dimensions and visualization (to remove)"
      ]
    },
    {
      "cell_type": "code",
      "execution_count": 2041,
      "metadata": {
        "colab": {
          "base_uri": "https://localhost:8080/"
        },
        "id": "nSD3eEBnshw-",
        "outputId": "9c6deff9-2b45-4b01-ab1f-3bc2078f5a8e"
      },
      "outputs": [
        {
          "name": "stdout",
          "output_type": "stream",
          "text": [
            "Problem\tDimensions\tSize\n",
            "0\t2\t\t1000\n",
            "1\t1\t\t500\n",
            "2\t3\t\t5000\n",
            "3\t3\t\t5000\n",
            "4\t2\t\t5000\n",
            "5\t2\t\t5000\n",
            "6\t2\t\t5000\n",
            "7\t2\t\t5000\n",
            "8\t6\t\t50000\n"
          ]
        }
      ],
      "source": [
        "data_summary = []\n",
        "\n",
        "for p in range(0, 9):\n",
        "    x = np.load(f\"./data/problem_{p}.npz\")\n",
        "\n",
        "    dataset_dim = x['x'].shape[0]\n",
        "    dataset_size = x['x'].shape[1]\n",
        "\n",
        "    data_summary.append([p, dataset_dim, dataset_size])\n",
        "\n",
        "print(\"Problem\\tDimensions\\tSize\")\n",
        "for row in data_summary:\n",
        "    print(f\"{row[0]}\\t{row[1]}\\t\\t{row[2]}\")"
      ]
    },
    {
      "cell_type": "markdown",
      "metadata": {},
      "source": [
        "## Setup\n",
        "Setup of constants"
      ]
    },
    {
      "cell_type": "code",
      "execution_count": null,
      "metadata": {
        "id": "9aN8ESmXshxA"
      },
      "outputs": [],
      "source": [
        "#----- Env parameters\n",
        "SEED = 42\n",
        "TEST_SIZE = 0.1\n",
        "NUM_FOLDS = 3\n",
        "RED_FACTOR = 0.2\n",
        "PROBLEM = 1\n",
        "\n",
        "#----- Tree parameters\n",
        "MAX_DEPTH = 10\n",
        "CONSTANTS_RANGE = 2\n",
        "\n",
        "#----- Genetic Algorithm parameters\n",
        "EXP_OPERATORS = False\n",
        "BUCKET_SIZE = 3\n",
        "OFFSPRING_SIZE = 10\n",
        "POP_SIZE = 30\n",
        "MAX_GENERATIONS = 10\n",
        "MUTATION_PROB = 0.02\n",
        "\n",
        "# Steady state for restarting\n",
        "MAX_STEADY = -1\n",
        "REL_TOL_STEADY = 1e-3\n",
        "\n",
        "# Penalty parameters\n",
        "PENALTY_MAX = 1e-3\n",
        "PENALTY_MIN = 1e-6\n",
        "PENALTY_STOP = MAX_GENERATIONS // 8\n",
        "PENALTY = lambda g: PENALTY_MAX\n",
        "# Other definition of penalty\n",
        "# PENALTY = lambda g: (0.5 * (PENALTY_MAX - PENALTY_MIN) * (np.cos(np.pi * g / (PENALTY_STOP)) + 1) + PENALTY_MIN) if g < PENALTY_STOP else 0\n",
        "\n",
        "\n",
        "#---- Operating modality\n",
        "class Modality(Enum):\n",
        "    TRAIN = 0\n",
        "    TEST_SINGLE_SPLIT = 1, TEST_SIZE\n",
        "    TEST_K_FOLD = 2, NUM_FOLDS\n",
        "\n",
        "MODE = Modality.TEST_K_FOLD"
      ]
    },
    {
      "cell_type": "markdown",
      "metadata": {},
      "source": [
        "## Helper functions"
      ]
    },
    {
      "cell_type": "markdown",
      "metadata": {},
      "source": [
        "### Seed initialization for reproducibility"
      ]
    },
    {
      "cell_type": "code",
      "execution_count": 2043,
      "metadata": {
        "id": "d4whR_D2shxA"
      },
      "outputs": [],
      "source": [
        "def init_rnd(seed):\n",
        "    random.seed(seed)\n",
        "    np.random.seed(seed)"
      ]
    },
    {
      "cell_type": "markdown",
      "metadata": {},
      "source": [
        "### Random reduction of the dataset"
      ]
    },
    {
      "cell_type": "code",
      "execution_count": 2044,
      "metadata": {
        "id": "Lwdsv1xDshxA"
      },
      "outputs": [],
      "source": [
        "def reduce_dataset(x, y, red_factor):\n",
        "\n",
        "    if red_factor == 1:\n",
        "        return x, y\n",
        "\n",
        "    indices, _ = train_test_split(np.arange(x.shape[1]), train_size=red_factor)\n",
        "\n",
        "    x_red = x[:, indices]\n",
        "    y_red = y[indices]\n",
        "    return x_red, y_red"
      ]
    },
    {
      "cell_type": "markdown",
      "metadata": {},
      "source": [
        "### Parent selection\n",
        "A random individual in a restricted bucket of best one is chosen."
      ]
    },
    {
      "cell_type": "code",
      "execution_count": 2045,
      "metadata": {
        "id": "oDyBwqEhshxB"
      },
      "outputs": [],
      "source": [
        "def parent_selection(population: list[Individual]) -> Individual:\n",
        "    candidates = sorted(np.random.choice(population, BUCKET_SIZE), key=lambda e: e.mse)\n",
        "    return candidates[0]"
      ]
    },
    {
      "cell_type": "markdown",
      "metadata": {},
      "source": [
        "### Mutation\n",
        "The mutation is decided by the Tree class itself (same probability for point of subtree mutation)"
      ]
    },
    {
      "cell_type": "code",
      "execution_count": 2046,
      "metadata": {
        "id": "ovwjYZntshxB"
      },
      "outputs": [],
      "source": [
        "def mutation(individual: Individual) -> Individual:\n",
        "    new_individual = Individual(Tree.mutate(individual.genome), 0)\n",
        "    return new_individual"
      ]
    },
    {
      "cell_type": "markdown",
      "metadata": {},
      "source": [
        "### Crossover\n",
        "Crossover is implemented by exchanging subtrees"
      ]
    },
    {
      "cell_type": "code",
      "execution_count": 2047,
      "metadata": {
        "id": "-olcjMk2shxB"
      },
      "outputs": [],
      "source": [
        "def xover(parent1: Individual, parent2: Individual) -> Individual:\n",
        "    offspring = Individual(Tree.crossover(parent1.genome, parent2.genome), 0)\n",
        "    return offspring"
      ]
    },
    {
      "cell_type": "markdown",
      "metadata": {},
      "source": [
        "### MSE plot functions"
      ]
    },
    {
      "cell_type": "markdown",
      "metadata": {},
      "source": [
        "#### Linear scale"
      ]
    },
    {
      "cell_type": "code",
      "execution_count": 2048,
      "metadata": {
        "id": "_cXIel9gshxB"
      },
      "outputs": [],
      "source": [
        "def plot_mse_gen(mses: list[list[float]], labels: list[str]):\n",
        "    plt.figure()\n",
        "    for i, mse in enumerate(mses):\n",
        "        plt.plot(mse, label=labels[i])\n",
        "    plt.legend()\n",
        "    plt.title(\"MSE vs Generation\")\n",
        "    plt.xlabel(\"Generation\")\n",
        "    plt.ylabel(\"MSE\")\n",
        "    plt.grid()\n",
        "    plt.show()"
      ]
    },
    {
      "cell_type": "markdown",
      "metadata": {},
      "source": [
        "#### Log-linear scale"
      ]
    },
    {
      "cell_type": "code",
      "execution_count": 2049,
      "metadata": {},
      "outputs": [],
      "source": [
        "def plot_mse_gen_log(mses: list[list[float]], labels: list[str]):\n",
        "    plt.figure()\n",
        "    for i, mse in enumerate(mses):\n",
        "        plt.semilogy(mse, label=labels[i])\n",
        "    plt.legend()\n",
        "    plt.title(\"MSE vs Generation\")\n",
        "    plt.xlabel(\"Generation\")\n",
        "    plt.ylabel(\"MSE\")\n",
        "    plt.grid()\n",
        "    plt.show()"
      ]
    },
    {
      "cell_type": "markdown",
      "metadata": {},
      "source": [
        "## Solve function\n",
        "Evolutionary algorithm applied on trees."
      ]
    },
    {
      "cell_type": "code",
      "execution_count": null,
      "metadata": {
        "id": "Bl5kJpzPshxB"
      },
      "outputs": [],
      "source": [
        "def solve(\n",
        "    population: list[Individual], \n",
        "    train_dataset: np.ndarray, \n",
        "    train_labels: np.ndarray, \n",
        "    mode: Modality, \n",
        "    val_dataset: np.ndarray = None, \n",
        "    val_labels: np.ndarray = None\n",
        ") -> tuple[Individual, tuple[list[float], list[float]]]:\n",
        "\n",
        "    for i in population:\n",
        "        i.mse = float(Tree.mse(i.genome, train_dataset, train_labels, PENALTY(0)))\n",
        "\n",
        "    mse_train = []\n",
        "    champion_mse_train = []\n",
        "\n",
        "    if mode != Modality.TRAIN:\n",
        "        mse_val = []\n",
        "    \n",
        "    steady = 0\n",
        "    restart_gen = 0\n",
        "    for gen in tqdm(range(MAX_GENERATIONS)):\n",
        "        offspring: list[Individual] = []\n",
        "        for _ in range(OFFSPRING_SIZE):\n",
        "            if np.random.random() < MUTATION_PROB:\n",
        "                p = parent_selection(population)\n",
        "                o = mutation(p)\n",
        "            else:\n",
        "                p1 = parent_selection(population)\n",
        "                p2 = parent_selection(population)\n",
        "                o = xover(p1, p2)\n",
        "\n",
        "            offspring.append(o)\n",
        "\n",
        "        for i in offspring:\n",
        "            i.mse = float(Tree.mse(i.genome, train_dataset, train_labels, PENALTY(gen - restart_gen)))\n",
        "\n",
        "        population.extend(offspring)\n",
        "\n",
        "        # Survivor selection\n",
        "        population.sort(key=lambda i: i.mse)\n",
        "        population = population[:POP_SIZE]\n",
        "        \n",
        "        population = [p for p in population if p.mse != np.inf]\n",
        "        \n",
        "        # Data\n",
        "        mean_depth = mean([i.genome.get_depth for i in population])\n",
        "        mean_length = mean([len(i.genome) for i in population])\n",
        "\n",
        "        # Statistics\n",
        "        mse_gen = mean([i.mse for i in population])\n",
        "        curr_champion_mse_train = population[0].mse\n",
        "        mse_train.append(mse_gen)\n",
        "        champion_mse_train.append(curr_champion_mse_train)\n",
        "        \n",
        "        curr_champion_mse = curr_champion_mse_train\n",
        "\n",
        "        # Statistics logging\n",
        "        if mode != Modality.TRAIN:\n",
        "            mse_gen = mean([float(Tree.mse(i.genome, val_dataset, val_labels)) for i in population])\n",
        "            mse_val.append(mse_gen)\n",
        "\n",
        "            curr_champion_mse_val = float(Tree.mse(population[0].genome, val_dataset, val_labels))\n",
        "            curr_champion_mse = curr_champion_mse_val\n",
        "            \n",
        "            print(f\"Generation: {gen}, Champion - TR: {curr_champion_mse_train} ({mse_train[-1]}), Champion - VAL: {curr_champion_mse_val} ({mse_val[-1]}), Depth: {mean_depth:.3f}, Length: {mean_length:.3f}\")\n",
        "        else:\n",
        "            print(f\"Generation: {gen}, Champion - TR: {curr_champion_mse_train} ({mse_train[-1]}), Depth: {mean_depth:.3f}, Length: {mean_length:.3f}\")\n",
        "\n",
        "        #------- Logic for restarting\n",
        "        \n",
        "        # Check for steady state\n",
        "        if gen > 0 and abs(curr_champion_mse - prev_champion_mse) / prev_champion_mse < REL_TOL_STEADY:\n",
        "            steady += 1\n",
        "        else:\n",
        "            steady = 0\n",
        "\n",
        "        # Check for restart\n",
        "        if steady == MAX_STEADY:\n",
        "            print(\"Restarting\")\n",
        "            \n",
        "            # Elitism: only current champion survives \n",
        "            curr_champion = population[0]\n",
        "            population = [Individual(Tree.create_individual(base_operators, curr_champion.genome.variables, curr_champion.genome.constants_bounds, MAX_DEPTH), 0) for _ in range(POP_SIZE-1)] + [curr_champion]\n",
        "            \n",
        "            for i in population[:-1]:\n",
        "                i.mse = float(Tree.mse(i.genome, train_dataset, train_labels, PENALTY(0)))\n",
        "            \n",
        "            steady = 0\n",
        "            restart_gen = gen\n",
        "        \n",
        "        prev_champion_mse = curr_champion_mse\n",
        "        \n",
        "    #-------- Plot losses (MSE)\n",
        "    losses = None\n",
        "    match mode:\n",
        "        case Modality.TRAIN:\n",
        "            plot_mse_gen_log([mse_train, champion_mse_train], [\"Population\", \"Champion\"])\n",
        "            losses = mse_train, champion_mse_train\n",
        "        case Modality.TEST_SINGLE_SPLIT:\n",
        "            plot_mse_gen_log([mse_train, mse_val], [\"Train\", \"Validation\"])\n",
        "            losses = mse_train, mse_val\n",
        "        case Modality.TEST_K_FOLD:\n",
        "            plot_mse_gen_log([mse_train, mse_val], [\"Train\", \"Validation\"])\n",
        "            losses = mse_train, mse_val\n",
        "\n",
        "    return population[0], losses"
      ]
    },
    {
      "cell_type": "markdown",
      "metadata": {},
      "source": [
        "## Data acquisition"
      ]
    },
    {
      "cell_type": "markdown",
      "metadata": {},
      "source": [
        "### Data reading "
      ]
    },
    {
      "cell_type": "code",
      "execution_count": 2051,
      "metadata": {
        "colab": {
          "base_uri": "https://localhost:8080/"
        },
        "id": "ODNHGBm4shxC",
        "outputId": "a54a090a-cdbe-4d52-fd57-d83c02d2ce6c"
      },
      "outputs": [
        {
          "name": "stdout",
          "output_type": "stream",
          "text": [
            "Solving problem 1\n"
          ]
        },
        {
          "data": {
            "text/plain": [
              "((1, 500), (500,))"
            ]
          },
          "execution_count": 2051,
          "metadata": {},
          "output_type": "execute_result"
        }
      ],
      "source": [
        "x = np.load(f\"./data/problem_{PROBLEM}.npz\")\n",
        "print(f\"Solving problem {PROBLEM}\")\n",
        "x['x'].shape, x['y'].shape"
      ]
    },
    {
      "cell_type": "code",
      "execution_count": 2052,
      "metadata": {
        "id": "fKJzk30vshxC"
      },
      "outputs": [],
      "source": [
        "dataset_dim = x['x'].shape[0]\n",
        "dataset_size = x['x'].shape[1]"
      ]
    },
    {
      "cell_type": "markdown",
      "metadata": {},
      "source": [
        "### Data handling and splitting"
      ]
    },
    {
      "cell_type": "code",
      "execution_count": 2053,
      "metadata": {
        "id": "lKQXWYQLshxC"
      },
      "outputs": [],
      "source": [
        "# Training and validation done on the same dataset\n",
        "if MODE == Modality.TRAIN:\n",
        "    x_train, y_train = x['x'], x['y']\n",
        "    x_val, y_val = None, None\n",
        "\n",
        "# Single split cross-validation\n",
        "elif MODE == Modality.TEST_SINGLE_SPLIT:\n",
        "    train_indices, val_indices = train_test_split(range(dataset_size), test_size=TEST_SIZE, random_state=SEED)\n",
        "    x_train, y_train = x['x'][:, train_indices], x['y'][train_indices]\n",
        "    x_val, y_val = x['x'][:, val_indices], x['y'][val_indices]\n",
        "    \n",
        "# K-fold cross-validation\n",
        "else:\n",
        "    x_folds_train, y_folds_train = [], []\n",
        "    x_folds_val, y_folds_val = [], []\n",
        "    kf = KFold(n_splits=MODE.value[1], shuffle=True, random_state=SEED)\n",
        "    for train_index, val_index in kf.split(x['x'].T):\n",
        "        x_train, y_train = x['x'][:, train_index], x['y'][train_index]\n",
        "        x_val, y_val = x['x'][:, val_index], x['y'][val_index]\n",
        "\n",
        "        x_folds_train.append(x_train)\n",
        "        y_folds_train.append(y_train)\n",
        "        x_folds_val.append(x_val)\n",
        "        y_folds_val.append(y_val)"
      ]
    },
    {
      "cell_type": "markdown",
      "metadata": {},
      "source": [
        "## Problem solution"
      ]
    },
    {
      "cell_type": "code",
      "execution_count": null,
      "metadata": {
        "colab": {
          "base_uri": "https://localhost:8080/",
          "height": 917,
          "referenced_widgets": [
            "db234a0e10ea45c6aa3e49a13b115809",
            "f33278980711492a93fcb4857b4848d7",
            "4cd7cf1e050f4ce4b3e58fb83d3f6c94",
            "eacb7cd0d06043cf98cdd4475cd57e43",
            "665cac8cb8814d69a64111d1649b0eb6",
            "0256b8d6990542ff9c953c7be496d73b",
            "4c6a5a8b11f84450a009cf8056612a23",
            "ce0521e182c44e28897da96c859e70de",
            "02f7d4cfeb794249894f0db93fb32fa2",
            "742c636435284c1b9f14ef2b092dde46",
            "3cd2fdcbe99b4833bd7ea52c29e0b739"
          ]
        },
        "id": "psZQ5bXEshxC",
        "outputId": "f30d2602-88e9-43cd-b2bb-c82cd60dcbcd"
      },
      "outputs": [
        {
          "name": "stdout",
          "output_type": "stream",
          "text": [
            "Solving problem 1\n",
            "(1, 334) (334,)\n",
            "(1, 166) (166,)\n"
          ]
        },
        {
          "data": {
            "application/vnd.jupyter.widget-view+json": {
              "model_id": "711497fca2f54a2b93d23ce12bd44586",
              "version_major": 2,
              "version_minor": 0
            },
            "text/plain": [
              "  0%|          | 0/10 [00:00<?, ?it/s]"
            ]
          },
          "metadata": {},
          "output_type": "display_data"
        },
        {
          "name": "stdout",
          "output_type": "stream",
          "text": [
            "Generation: 0, Champion - TR: 0.059082556354234136 (59.678621096817025), Champion - VAL: 0.058482116722598176 (57.59980254311657), Depth: 5.300, Length: 12.733\n",
            "Generation: 1, Champion - TR: 0.059082556354234136 (42.27115256324488), Champion - VAL: 0.058482116722598176 (40.54726695013525), Depth: 5.700, Length: 14.333\n",
            "Generation: 2, Champion - TR: 0.059082556354234136 (31.946256950823194), Champion - VAL: 0.058482116722598176 (30.205564800876385), Depth: 6.300, Length: 15.367\n",
            "Generation: 3, Champion - TR: 0.059082556354234136 (25.66209187259959), Champion - VAL: 0.058482116722598176 (24.27834297602374), Depth: 5.933, Length: 14.033\n",
            "Generation: 4, Champion - TR: 0.059082556354234136 (21.440730556463425), Champion - VAL: 0.058482116722598176 (20.022995282877957), Depth: 5.900, Length: 14.000\n",
            "Generation: 5, Champion - TR: 0.059082556354234136 (16.062494269845924), Champion - VAL: 0.058482116722598176 (15.03963239685497), Depth: 5.800, Length: 12.933\n",
            "Generation: 6, Champion - TR: 0.059082556354234136 (13.264318553243235), Champion - VAL: 0.058482116722598176 (12.467831842780207), Depth: 6.000, Length: 12.933\n",
            "Generation: 7, Champion - TR: 0.059082556354234136 (8.654718943231234), Champion - VAL: 0.058482116722598176 (8.057784458928468), Depth: 6.567, Length: 12.500\n",
            "Generation: 8, Champion - TR: 0.059082556354234136 (4.555887892909675), Champion - VAL: 0.058482116722598176 (4.179146623924522), Depth: 6.367, Length: 11.533\n",
            "Generation: 9, Champion - TR: 0.003882903230220605 (1.5501659219755894), Champion - VAL: 0.002678838180571497 (1.4670705679308562), Depth: 5.633, Length: 8.667\n"
          ]
        },
        {
          "data": {
            "image/png": "[encoded data removed]",
            "text/plain": [
              "<Figure size 640x480 with 1 Axes>"
            ]
          },
          "metadata": {},
          "output_type": "display_data"
        },
        {
          "data": {
            "application/vnd.jupyter.widget-view+json": {
              "model_id": "032e9430b62d466d93b2499c83d53fef",
              "version_major": 2,
              "version_minor": 0
            },
            "text/plain": [
              "  0%|          | 0/10 [00:00<?, ?it/s]"
            ]
          },
          "metadata": {},
          "output_type": "display_data"
        },
        {
          "name": "stdout",
          "output_type": "stream",
          "text": [
            "Generation: 0, Champion - TR: 0.0589139715300844 (48.125334349177926), Champion - VAL: 0.058814619352009136 (49.21740354939782), Depth: 5.567, Length: 14.367\n",
            "Generation: 1, Champion - TR: 0.0589139715300844 (39.41568662671552), Champion - VAL: 0.058814619352009136 (39.89999474909203), Depth: 5.667, Length: 14.733\n",
            "Generation: 2, Champion - TR: 0.0589139715300844 (33.119911712630575), Champion - VAL: 0.058814619352009136 (33.3720997117866), Depth: 5.700, Length: 14.833\n",
            "Generation: 3, Champion - TR: 0.0589139715300844 (25.45065272818546), Champion - VAL: 0.058814619352009136 (25.699817411084435), Depth: 5.600, Length: 14.967\n",
            "Generation: 4, Champion - TR: 0.0589139715300844 (22.442981226752387), Champion - VAL: 0.058814619352009136 (22.651106940240403), Depth: 5.433, Length: 14.333\n",
            "Generation: 5, Champion - TR: 0.0589139715300844 (21.041972037003216), Champion - VAL: 0.058814619352009136 (21.302660632490653), Depth: 5.167, Length: 12.833\n",
            "Generation: 6, Champion - TR: 0.0589139715300844 (19.144583625356393), Champion - VAL: 0.058814619352009136 (19.308623606954953), Depth: 5.267, Length: 12.633\n",
            "Generation: 7, Champion - TR: 0.0589139715300844 (16.77676154622351), Champion - VAL: 0.058814619352009136 (16.958167119066896), Depth: 5.233, Length: 11.700\n",
            "Generation: 8, Champion - TR: 0.0589139715300844 (13.680556678674074), Champion - VAL: 0.058814619352009136 (13.77599367989579), Depth: 4.967, Length: 10.133\n",
            "Generation: 9, Champion - TR: 0.0589139715300844 (10.738162376260435), Champion - VAL: 0.058814619352009136 (10.814117021677815), Depth: 5.267, Length: 10.567\n"
          ]
        },
        {
          "data": {
            "image/png": "[encoded data removed]",
            "text/plain": [
              "<Figure size 640x480 with 1 Axes>"
            ]
          },
          "metadata": {},
          "output_type": "display_data"
        },
        {
          "data": {
            "application/vnd.jupyter.widget-view+json": {
              "model_id": "26571ddf152d47cdb60187482ccbc2ce",
              "version_major": 2,
              "version_minor": 0
            },
            "text/plain": [
              "  0%|          | 0/10 [00:00<?, ?it/s]"
            ]
          },
          "metadata": {},
          "output_type": "display_data"
        },
        {
          "name": "stdout",
          "output_type": "stream",
          "text": [
            "Generation: 0, Champion - TR: 6.958765462054106e-32 (34.262475536804466), Champion - VAL: 7.518087975680294e-32 (33.81415855649008), Depth: 6.067, Length: 16.100\n",
            "Generation: 1, Champion - TR: 6.958765462054106e-32 (23.471161368246804), Champion - VAL: 7.518087975680294e-32 (23.309896880730097), Depth: 5.967, Length: 15.400\n",
            "Generation: 2, Champion - TR: 6.958765462054106e-32 (16.84919188421362), Champion - VAL: 7.518087975680294e-32 (16.819915255012692), Depth: 5.400, Length: 13.200\n",
            "Generation: 3, Champion - TR: 6.958765462054106e-32 (11.74366919840951), Champion - VAL: 7.518087975680294e-32 (11.691629676207382), Depth: 4.900, Length: 11.200\n",
            "Generation: 4, Champion - TR: 6.958765462054106e-32 (8.50409935451456), Champion - VAL: 7.518087975680294e-32 (8.411022805965864), Depth: 4.867, Length: 9.833\n",
            "Generation: 5, Champion - TR: 6.958765462054106e-32 (4.858369346868779), Champion - VAL: 7.518087975680294e-32 (4.864861168181692), Depth: 4.500, Length: 8.067\n",
            "Generation: 6, Champion - TR: 6.958765462054106e-32 (3.0049850715265625), Champion - VAL: 7.518087975680294e-32 (3.0169550297973147), Depth: 4.633, Length: 7.700\n",
            "Generation: 7, Champion - TR: 6.944903379460372e-32 (0.7204518780375813), Champion - VAL: 7.518087975680294e-32 (0.7432194899062494), Depth: 4.000, Length: 6.333\n",
            "Generation: 8, Champion - TR: 6.944903379460372e-32 (0.47710735500113877), Champion - VAL: 7.518087975680294e-32 (0.5057711029673871), Depth: 3.533, Length: 5.567\n",
            "Generation: 9, Champion - TR: 6.944903379460372e-32 (0.28727496422624166), Champion - VAL: 7.518087975680294e-32 (0.3122431000741499), Depth: 3.267, Length: 5.067\n"
          ]
        },
        {
          "data": {
            "image/png": "[encoded data removed]",
            "text/plain": [
              "<Figure size 640x480 with 1 Axes>"
            ]
          },
          "metadata": {},
          "output_type": "display_data"
        },
        {
          "data": {
            "image/png": "[encoded data removed]",
            "text/plain": [
              "<Figure size 640x480 with 1 Axes>"
            ]
          },
          "metadata": {},
          "output_type": "display_data"
        },
        {
          "name": "stdout",
          "output_type": "stream",
          "text": [
            "Overall MSE: 100.30646470913382\n",
            "Formula: -(-((-(x[0]) * (-1.537 * np.cos(np.sin(-((-1.537 * np.cos(np.sin(-(-(np.cos(x[0]))))))))))))) + -(-((-(x[0]) * (-1.537 * np.cos(np.sin(-(-1.250))))))) + np.sin(x[0])\n"
          ]
        }
      ],
      "source": [
        "# Initialize random seed\n",
        "init_rnd(SEED)\n",
        "\n",
        "# Initialize population\n",
        "variables = [f\"x{i}\" for i in range(dataset_dim)]\n",
        "operators = base_operators if not EXP_OPERATORS else base_operators + exp_operators\n",
        "constants_bounds = (-CONSTANTS_RANGE, CONSTANTS_RANGE)\n",
        "population = [Individual(Tree.create_individual(base_operators, variables, constants_bounds, max_depth=MAX_DEPTH), 0) for _ in range(POP_SIZE)]\n",
        "\n",
        "print(f\"Solving problem {PROBLEM}\")\n",
        "\n",
        "# Reduce dataset (only in training mode)\n",
        "x_total, y_total = x_train, y_train\n",
        "if RED_FACTOR != 1 and MODE == Modality.TRAIN:\n",
        "    x_train, y_train = reduce_dataset(x_train, y_train, RED_FACTOR)\n",
        "\n",
        "# Print dataset shapes\n",
        "print(x_train.shape, y_train.shape)\n",
        "if MODE != Modality.TRAIN:\n",
        "    print(x_val.shape, y_val.shape)\n",
        "\n",
        "#----------- Solve problem\n",
        "\n",
        "# Training mode: all data retained is used for both training and validation \n",
        "if MODE == Modality.TRAIN:\n",
        "    champion, (train_losses, champ_losses) = solve(population, x_train, y_train, MODE)\n",
        "\n",
        "# Single-split validation mode: data is split into training and validation sets\n",
        "# The champion is evaluated on the validation set\n",
        "# More consistent, but issues due to smaller dataset\n",
        "elif MODE == Modality.TEST_SINGLE_SPLIT:\n",
        "    champion, (train_losses, val_losses) = solve(population, x_train, y_train, MODE, x_val, y_val)\n",
        "    \n",
        "# K-fold cross-validation mode: data is split into k folds\n",
        "# The champion is evaluated on each fold and the final champion is the average of the k champions\n",
        "# More robust, but issues due to smaller datasets\n",
        "# Very time-consuming\n",
        "# Not used in final experiments, but the code has been run for testing purposes\n",
        "else:\n",
        "    champions: list[Individual] = []\n",
        "    train_losses, val_losses = [], []\n",
        "    \n",
        "    # Iterate over the folds\n",
        "    for x_train, y_train, x_val, y_val in zip(x_folds_train, y_folds_train, x_folds_val, y_folds_val):\n",
        "        \n",
        "        # Find and evaluate the champion for each fold\n",
        "        champion, (train_losses_single, val_losses_single) = solve(population, x_train, y_train, MODE, x_val, y_val)\n",
        "        champions.append(champion)\n",
        "        train_losses.append(train_losses_single)\n",
        "        val_losses.append(val_losses_single)\n",
        "\n",
        "    # Merge the champions into a single champion\n",
        "    # Evaluation is done later\n",
        "    champion_genome = Tree.merge([ch.genome for ch in champions])\n",
        "    champion = Individual(champion_genome, 0)\n",
        "    \n",
        "# Plot the champion genome (formula)\n",
        "champion.genome.draw()\n",
        "plt.show()\n",
        "\n",
        "# Evaluate the champion on the total dataset (even if reduced for training)\n",
        "mse_overall = Tree.mse(champion.genome, x_total, y_total)\n",
        "\n",
        "# Plot results\n",
        "# In case of single-split validation, the validation MSE is also computed\n",
        "if MODE == Modality.TEST_SINGLE_SPLIT:\n",
        "    mse_val = Tree.mse(champion.genome, x_val, y_val)\n",
        "    print(f\"Train MSE: {champion.mse}, Validation MSE: {mse_val}, Overall MSE: {mse_overall}\")\n",
        "else:\n",
        "    print(f\"Overall MSE: {mse_overall}\")\n",
        "\n",
        "\n",
        "# Plot the champion formula as mathematical notation\n",
        "print(f\"Formula: {champion.genome}\")"
      ]
    }
  ],
  "metadata": {
    "colab": {
      "provenance": []
    },
    "kernelspec": {
      "display_name": "venv",
      "language": "python",
      "name": "python3"
    },
    "language_info": {
      "codemirror_mode": {
        "name": "ipython",
        "version": 3
      },
      "file_extension": ".py",
      "mimetype": "text/x-python",
      "name": "python",
      "nbconvert_exporter": "python",
      "pygments_lexer": "ipython3",
      "version": "3.12.4"
    },
    "widgets": {
      "application/vnd.jupyter.widget-state+json": {
        "0256b8d6990542ff9c953c7be496d73b": {
          "model_module": "@jupyter-widgets/base",
          "model_module_version": "1.2.0",
          "model_name": "LayoutModel",
          "state": {
            "_model_module": "@jupyter-widgets/base",
            "_model_module_version": "1.2.0",
            "_model_name": "LayoutModel",
            "_view_count": null,
            "_view_module": "@jupyter-widgets/base",
            "_view_module_version": "1.2.0",
            "_view_name": "LayoutView",
            "align_content": null,
            "align_items": null,
            "align_self": null,
            "border": null,
            "bottom": null,
            "display": null,
            "flex": null,
            "flex_flow": null,
            "grid_area": null,
            "grid_auto_columns": null,
            "grid_auto_flow": null,
            "grid_auto_rows": null,
            "grid_column": null,
            "grid_gap": null,
            "grid_row": null,
            "grid_template_areas": null,
            "grid_template_columns": null,
            "grid_template_rows": null,
            "height": null,
            "justify_content": null,
            "justify_items": null,
            "left": null,
            "margin": null,
            "max_height": null,
            "max_width": null,
            "min_height": null,
            "min_width": null,
            "object_fit": null,
            "object_position": null,
            "order": null,
            "overflow": null,
            "overflow_x": null,
            "overflow_y": null,
            "padding": null,
            "right": null,
            "top": null,
            "visibility": null,
            "width": null
          }
        },
        "02f7d4cfeb794249894f0db93fb32fa2": {
          "model_module": "@jupyter-widgets/controls",
          "model_module_version": "1.5.0",
          "model_name": "ProgressStyleModel",
          "state": {
            "_model_module": "@jupyter-widgets/controls",
            "_model_module_version": "1.5.0",
            "_model_name": "ProgressStyleModel",
            "_view_count": null,
            "_view_module": "@jupyter-widgets/base",
            "_view_module_version": "1.2.0",
            "_view_name": "StyleView",
            "bar_color": null,
            "description_width": ""
          }
        },
        "3cd2fdcbe99b4833bd7ea52c29e0b739": {
          "model_module": "@jupyter-widgets/controls",
          "model_module_version": "1.5.0",
          "model_name": "DescriptionStyleModel",
          "state": {
            "_model_module": "@jupyter-widgets/controls",
            "_model_module_version": "1.5.0",
            "_model_name": "DescriptionStyleModel",
            "_view_count": null,
            "_view_module": "@jupyter-widgets/base",
            "_view_module_version": "1.2.0",
            "_view_name": "StyleView",
            "description_width": ""
          }
        },
        "4c6a5a8b11f84450a009cf8056612a23": {
          "model_module": "@jupyter-widgets/controls",
          "model_module_version": "1.5.0",
          "model_name": "DescriptionStyleModel",
          "state": {
            "_model_module": "@jupyter-widgets/controls",
            "_model_module_version": "1.5.0",
            "_model_name": "DescriptionStyleModel",
            "_view_count": null,
            "_view_module": "@jupyter-widgets/base",
            "_view_module_version": "1.2.0",
            "_view_name": "StyleView",
            "description_width": ""
          }
        },
        "4cd7cf1e050f4ce4b3e58fb83d3f6c94": {
          "model_module": "@jupyter-widgets/controls",
          "model_module_version": "1.5.0",
          "model_name": "FloatProgressModel",
          "state": {
            "_dom_classes": [],
            "_model_module": "@jupyter-widgets/controls",
            "_model_module_version": "1.5.0",
            "_model_name": "FloatProgressModel",
            "_view_count": null,
            "_view_module": "@jupyter-widgets/controls",
            "_view_module_version": "1.5.0",
            "_view_name": "ProgressView",
            "bar_style": "",
            "description": "",
            "description_tooltip": null,
            "layout": "IPY_MODEL_ce0521e182c44e28897da96c859e70de",
            "max": 500,
            "min": 0,
            "orientation": "horizontal",
            "style": "IPY_MODEL_02f7d4cfeb794249894f0db93fb32fa2",
            "value": 48
          }
        },
        "665cac8cb8814d69a64111d1649b0eb6": {
          "model_module": "@jupyter-widgets/base",
          "model_module_version": "1.2.0",
          "model_name": "LayoutModel",
          "state": {
            "_model_module": "@jupyter-widgets/base",
            "_model_module_version": "1.2.0",
            "_model_name": "LayoutModel",
            "_view_count": null,
            "_view_module": "@jupyter-widgets/base",
            "_view_module_version": "1.2.0",
            "_view_name": "LayoutView",
            "align_content": null,
            "align_items": null,
            "align_self": null,
            "border": null,
            "bottom": null,
            "display": null,
            "flex": null,
            "flex_flow": null,
            "grid_area": null,
            "grid_auto_columns": null,
            "grid_auto_flow": null,
            "grid_auto_rows": null,
            "grid_column": null,
            "grid_gap": null,
            "grid_row": null,
            "grid_template_areas": null,
            "grid_template_columns": null,
            "grid_template_rows": null,
            "height": null,
            "justify_content": null,
            "justify_items": null,
            "left": null,
            "margin": null,
            "max_height": null,
            "max_width": null,
            "min_height": null,
            "min_width": null,
            "object_fit": null,
            "object_position": null,
            "order": null,
            "overflow": null,
            "overflow_x": null,
            "overflow_y": null,
            "padding": null,
            "right": null,
            "top": null,
            "visibility": null,
            "width": null
          }
        },
        "742c636435284c1b9f14ef2b092dde46": {
          "model_module": "@jupyter-widgets/base",
          "model_module_version": "1.2.0",
          "model_name": "LayoutModel",
          "state": {
            "_model_module": "@jupyter-widgets/base",
            "_model_module_version": "1.2.0",
            "_model_name": "LayoutModel",
            "_view_count": null,
            "_view_module": "@jupyter-widgets/base",
            "_view_module_version": "1.2.0",
            "_view_name": "LayoutView",
            "align_content": null,
            "align_items": null,
            "align_self": null,
            "border": null,
            "bottom": null,
            "display": null,
            "flex": null,
            "flex_flow": null,
            "grid_area": null,
            "grid_auto_columns": null,
            "grid_auto_flow": null,
            "grid_auto_rows": null,
            "grid_column": null,
            "grid_gap": null,
            "grid_row": null,
            "grid_template_areas": null,
            "grid_template_columns": null,
            "grid_template_rows": null,
            "height": null,
            "justify_content": null,
            "justify_items": null,
            "left": null,
            "margin": null,
            "max_height": null,
            "max_width": null,
            "min_height": null,
            "min_width": null,
            "object_fit": null,
            "object_position": null,
            "order": null,
            "overflow": null,
            "overflow_x": null,
            "overflow_y": null,
            "padding": null,
            "right": null,
            "top": null,
            "visibility": null,
            "width": null
          }
        },
        "ce0521e182c44e28897da96c859e70de": {
          "model_module": "@jupyter-widgets/base",
          "model_module_version": "1.2.0",
          "model_name": "LayoutModel",
          "state": {
            "_model_module": "@jupyter-widgets/base",
            "_model_module_version": "1.2.0",
            "_model_name": "LayoutModel",
            "_view_count": null,
            "_view_module": "@jupyter-widgets/base",
            "_view_module_version": "1.2.0",
            "_view_name": "LayoutView",
            "align_content": null,
            "align_items": null,
            "align_self": null,
            "border": null,
            "bottom": null,
            "display": null,
            "flex": null,
            "flex_flow": null,
            "grid_area": null,
            "grid_auto_columns": null,
            "grid_auto_flow": null,
            "grid_auto_rows": null,
            "grid_column": null,
            "grid_gap": null,
            "grid_row": null,
            "grid_template_areas": null,
            "grid_template_columns": null,
            "grid_template_rows": null,
            "height": null,
            "justify_content": null,
            "justify_items": null,
            "left": null,
            "margin": null,
            "max_height": null,
            "max_width": null,
            "min_height": null,
            "min_width": null,
            "object_fit": null,
            "object_position": null,
            "order": null,
            "overflow": null,
            "overflow_x": null,
            "overflow_y": null,
            "padding": null,
            "right": null,
            "top": null,
            "visibility": null,
            "width": null
          }
        },
        "db234a0e10ea45c6aa3e49a13b115809": {
          "model_module": "@jupyter-widgets/controls",
          "model_module_version": "1.5.0",
          "model_name": "HBoxModel",
          "state": {
            "_dom_classes": [],
            "_model_module": "@jupyter-widgets/controls",
            "_model_module_version": "1.5.0",
            "_model_name": "HBoxModel",
            "_view_count": null,
            "_view_module": "@jupyter-widgets/controls",
            "_view_module_version": "1.5.0",
            "_view_name": "HBoxView",
            "box_style": "",
            "children": [
              "IPY_MODEL_f33278980711492a93fcb4857b4848d7",
              "IPY_MODEL_4cd7cf1e050f4ce4b3e58fb83d3f6c94",
              "IPY_MODEL_eacb7cd0d06043cf98cdd4475cd57e43"
            ],
            "layout": "IPY_MODEL_665cac8cb8814d69a64111d1649b0eb6"
          }
        },
        "eacb7cd0d06043cf98cdd4475cd57e43": {
          "model_module": "@jupyter-widgets/controls",
          "model_module_version": "1.5.0",
          "model_name": "HTMLModel",
          "state": {
            "_dom_classes": [],
            "_model_module": "@jupyter-widgets/controls",
            "_model_module_version": "1.5.0",
            "_model_name": "HTMLModel",
            "_view_count": null,
            "_view_module": "@jupyter-widgets/controls",
            "_view_module_version": "1.5.0",
            "_view_name": "HTMLView",
            "description": "",
            "description_tooltip": null,
            "layout": "IPY_MODEL_742c636435284c1b9f14ef2b092dde46",
            "placeholder": "​",
            "style": "IPY_MODEL_3cd2fdcbe99b4833bd7ea52c29e0b739",
            "value": " 48/500 [01:54&lt;30:44,  4.08s/it]"
          }
        },
        "f33278980711492a93fcb4857b4848d7": {
          "model_module": "@jupyter-widgets/controls",
          "model_module_version": "1.5.0",
          "model_name": "HTMLModel",
          "state": {
            "_dom_classes": [],
            "_model_module": "@jupyter-widgets/controls",
            "_model_module_version": "1.5.0",
            "_model_name": "HTMLModel",
            "_view_count": null,
            "_view_module": "@jupyter-widgets/controls",
            "_view_module_version": "1.5.0",
            "_view_name": "HTMLView",
            "description": "",
            "description_tooltip": null,
            "layout": "IPY_MODEL_0256b8d6990542ff9c953c7be496d73b",
            "placeholder": "​",
            "style": "IPY_MODEL_4c6a5a8b11f84450a009cf8056612a23",
            "value": " 10%"
          }
        }
      }
    }
  },
  "nbformat": 4,
  "nbformat_minor": 0
}
