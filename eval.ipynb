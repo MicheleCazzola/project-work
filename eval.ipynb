{
 "cells": [
  {
   "cell_type": "code",
   "execution_count": 1,
   "metadata": {},
   "outputs": [],
   "source": [
    "import numpy as np\n",
    "import s323270\n",
    "from sklearn.model_selection import train_test_split"
   ]
  },
  {
   "cell_type": "code",
   "execution_count": 2,
   "metadata": {},
   "outputs": [],
   "source": [
    "PROBLEM = 5\n",
    "SEED = 42\n",
    "function = eval(f\"s323270.f{PROBLEM}\")"
   ]
  },
  {
   "cell_type": "code",
   "execution_count": 3,
   "metadata": {},
   "outputs": [
    {
     "data": {
      "text/plain": [
       "<function s323270.f5(x: numpy.ndarray) -> numpy.ndarray>"
      ]
     },
     "execution_count": 3,
     "metadata": {},
     "output_type": "execute_result"
    }
   ],
   "source": [
    "function"
   ]
  },
  {
   "cell_type": "code",
   "execution_count": 4,
   "metadata": {},
   "outputs": [
    {
     "name": "stdout",
     "output_type": "stream",
     "text": [
      "Evaluating problem 5\n"
     ]
    },
    {
     "data": {
      "text/plain": [
       "((2, 5000), (5000,))"
      ]
     },
     "execution_count": 4,
     "metadata": {},
     "output_type": "execute_result"
    }
   ],
   "source": [
    "x = np.load(f\"./data/problem_{PROBLEM}.npz\")\n",
    "print(f\"Evaluating problem {PROBLEM}\")\n",
    "x['x'].shape, x['y'].shape"
   ]
  },
  {
   "cell_type": "code",
   "execution_count": 5,
   "metadata": {},
   "outputs": [],
   "source": [
    "dataset_dim = x['x'].shape[0]\n",
    "dataset_size = x['x'].shape[1]"
   ]
  },
  {
   "cell_type": "code",
   "execution_count": 10,
   "metadata": {},
   "outputs": [],
   "source": [
    "train_indices, val_indices = train_test_split(range(dataset_size), test_size=0.1, random_state=42)\n",
    "#train_indices, val_indices = range(0, dataset_size), range(0, dataset_size)\n",
    "x_train, y_train = x['x'][:, train_indices], x['y'][train_indices]\n",
    "x_val, y_val = x['x'][:, val_indices], x['y'][val_indices]"
   ]
  },
  {
   "cell_type": "code",
   "execution_count": 16,
   "metadata": {},
   "outputs": [
    {
     "name": "stdout",
     "output_type": "stream",
     "text": [
      "MSE (train): 5.60529e-16\n",
      "MSE (real) : 5.28052e-16\n"
     ]
    }
   ],
   "source": [
    "print(f\"MSE (train): {100*np.square(y_train-function(x_train)).sum()/len(y_train):g}\")\n",
    "print(f\"MSE (real) : {100*np.square(y_val-function(x_val)).sum()/len(y_val):g}\")"
   ]
  },
  {
   "cell_type": "code",
   "execution_count": 14,
   "metadata": {},
   "outputs": [
    {
     "data": {
      "text/plain": [
       "array([-0.00078215])"
      ]
     },
     "execution_count": 14,
     "metadata": {},
     "output_type": "execute_result"
    }
   ],
   "source": [
    "function(x_train)"
   ]
  }
 ],
 "metadata": {
  "kernelspec": {
   "display_name": "venv",
   "language": "python",
   "name": "python3"
  },
  "language_info": {
   "codemirror_mode": {
    "name": "ipython",
    "version": 3
   },
   "file_extension": ".py",
   "mimetype": "text/x-python",
   "name": "python",
   "nbconvert_exporter": "python",
   "pygments_lexer": "ipython3",
   "version": "3.12.4"
  }
 },
 "nbformat": 4,
 "nbformat_minor": 2
}
