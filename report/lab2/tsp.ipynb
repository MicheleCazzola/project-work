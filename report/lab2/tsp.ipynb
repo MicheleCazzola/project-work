{
 "cells": [
  {
   "cell_type": "markdown",
   "metadata": {},
   "source": [
    "# Lab 2 - Travelling Salesman Problem (TSP)"
   ]
  },
  {
   "cell_type": "markdown",
   "metadata": {},
   "source": [
    "## Imports"
   ]
  },
  {
   "cell_type": "code",
   "execution_count": null,
   "metadata": {},
   "outputs": [],
   "source": [
    "import functools\n",
    "import pandas as pd\n",
    "import numpy as np\n",
    "import geopy.distance\n",
    "import matplotlib.pyplot as plt\n",
    "from tqdm.auto import tqdm\n",
    "from dataclasses import dataclass\n"
   ]
  },
  {
   "cell_type": "markdown",
   "metadata": {},
   "source": [
    "## General constants"
   ]
  },
  {
   "cell_type": "code",
   "execution_count": null,
   "metadata": {},
   "outputs": [],
   "source": [
    "PATH = \"cities/\"\n",
    "INSTANCES = [\n",
    "    \"vanuatu.csv\",\n",
    "    \"italy.csv\",\n",
    "    \"russia.csv\",\n",
    "    \"us.csv\",\n",
    "    \"china.csv\"\n",
    "]\n",
    "BEST_RESULTS = [\n",
    "    -1_345.54,\n",
    "    -4_172.76,\n",
    "    -32_722.5,\n",
    "    -39_016.62,\n",
    "    None\n",
    "] "
   ]
  },
  {
   "cell_type": "markdown",
   "metadata": {},
   "source": [
    "## Classes"
   ]
  },
  {
   "cell_type": "code",
   "execution_count": null,
   "metadata": {},
   "outputs": [],
   "source": [
    "class City:\n",
    "    \n",
    "    @staticmethod\n",
    "    def distance(start, end):\n",
    "        return geopy.distance.geodesic(\n",
    "            (start.lat, start.lon), (end.lat, end.lon)\n",
    "        ).km\n",
    "    \n",
    "    def __init__(self, name, lat, lon):\n",
    "        self.name: str = name\n",
    "        self.lat: float | np.float64 = lat\n",
    "        self.lon: float | np.float64 = lon\n",
    "        \n",
    "    def __repr__(self):\n",
    "        return f\"{self.name}\"\n",
    "    \n",
    "    def __str__(self):\n",
    "        return f\"{self.name} ({self.lat}°, {self.lon}°)\""
   ]
  },
  {
   "cell_type": "code",
   "execution_count": null,
   "metadata": {},
   "outputs": [],
   "source": [
    "@dataclass\n",
    "class Individual:\n",
    "    genome: np.ndarray\n",
    "    fitness: np.float64 | float = None"
   ]
  },
  {
   "cell_type": "markdown",
   "metadata": {},
   "source": [
    "## Helper functions"
   ]
  },
  {
   "cell_type": "code",
   "execution_count": null,
   "metadata": {},
   "outputs": [],
   "source": [
    "def distance_matrix(coordinates: list) -> np.ndarray:\n",
    "    num_cities = len(coordinates)\n",
    "    dist_matrix = np.zeros((num_cities, num_cities))\n",
    "    \n",
    "    for i in range(num_cities):\n",
    "        for j in range(i+1):\n",
    "            dist_matrix[i, j] = dist_matrix[j, i] = City.distance(coordinates[i], coordinates[j]) if i != j else 0\n",
    "          \n",
    "    return dist_matrix\n",
    "\n",
    "\n",
    "def counter(fn):\n",
    "    \"\"\"Simple decorator for counting number of calls\"\"\"\n",
    "\n",
    "    @functools.wraps(fn)\n",
    "    def helper(*args, **kargs):\n",
    "        helper.calls += 1\n",
    "        return fn(*args, **kargs)\n",
    "\n",
    "    helper.calls = 0\n",
    "    return helper\n",
    "\n",
    "\n",
    "@counter\n",
    "def cost(solution: np.ndarray, dist_matrix: np.ndarray) -> np.float64 | float:\n",
    "    \"\"\"Cost of a cycle\"\"\"\n",
    "    return np.sum(\n",
    "        np.array([\n",
    "            dist_matrix[start, end] for (start, end) in zip(solution[:-1], solution[1:])\n",
    "        ])\n",
    "    )\n",
    "    \n",
    "    \n",
    "def fitness(individual, dist_matrix) -> np.float64 | float:\n",
    "    solution = np.array(individual.genome.tolist() + [individual.genome[0]])\n",
    "    return -cost(solution, dist_matrix)"
   ]
  },
  {
   "cell_type": "markdown",
   "metadata": {},
   "source": [
    "#### Parent selection"
   ]
  },
  {
   "cell_type": "code",
   "execution_count": null,
   "metadata": {},
   "outputs": [],
   "source": [
    "def parent_selection(population) -> Individual:\n",
    "    BUCKET_SIZE = 10\n",
    "    candidates = sorted(np.random.choice(population, BUCKET_SIZE), key=lambda e: e.fitness, reverse=True)\n",
    "    return candidates[0]"
   ]
  },
  {
   "cell_type": "markdown",
   "metadata": {},
   "source": [
    "#### Crossover"
   ]
  },
  {
   "cell_type": "code",
   "execution_count": null,
   "metadata": {},
   "outputs": [],
   "source": [
    "def cycle_xover(p1: Individual, p2: Individual) -> Individual:\n",
    "    \n",
    "    num_cities = p1.genome.size\n",
    "    genome = p1.genome.copy()\n",
    "    \n",
    "    a, b = np.random.randint(num_cities-1), np.random.randint(num_cities-1)\n",
    "    l1, l2 = min(a, b), max(a, b)\n",
    "    segment = p1.genome[l1:l2+1]\n",
    "    \n",
    "    genome[l1:l2+1] = p1.genome[l1:l2+1]\n",
    "    others = p2.genome[~np.isin(p2.genome, segment)]\n",
    "    \n",
    "    assert (len(others) - l1) == (len(genome) - (l2+1))\n",
    "    \n",
    "    genome[:l1] = others[:l1]\n",
    "    genome[l2+1:] = others[l1:]\n",
    "    \n",
    "    return Individual(genome)\n",
    "\n",
    "\n",
    "def inver_over_xover(p1: Individual, p2: Individual) -> Individual:\n",
    "    \"\"\"INVER-OVER crossover\"\"\"\n",
    "    genome1 = p1.genome.copy()\n",
    "    num_cities = p1.genome.size\n",
    "    genome = np.zeros(num_cities, dtype=np.int16)\n",
    "    \n",
    "    p1_start = np.random.randint(num_cities-1)\n",
    "    genome1 = np.roll(genome1, -p1_start)\n",
    "    \n",
    "    p2_start = p2.genome.tolist().index(genome1[0])\n",
    "    p1_end = genome1.tolist().index(p2.genome[(p2_start+1) % num_cities])\n",
    "    \n",
    "    genome[0], genome[1] = genome1[0], genome1[p1_end]\n",
    "    \n",
    "    genome[2:p1_end+1], genome[p1_end+1:] = genome1[1:p1_end][::-1], genome1[p1_end+1:]\n",
    "    genome = np.roll(genome, p1_start)\n",
    "    \n",
    "    return Individual(genome)"
   ]
  },
  {
   "cell_type": "markdown",
   "metadata": {},
   "source": [
    "#### Mutation"
   ]
  },
  {
   "cell_type": "code",
   "execution_count": null,
   "metadata": {},
   "outputs": [],
   "source": [
    "def scramble_mutation(p: Individual) -> Individual:\n",
    "    SIGMA = 0.5\n",
    "    genome = p.genome.copy()\n",
    "    mask = np.random.random(len(genome)) < SIGMA\n",
    "    genome[mask] = np.random.permutation(genome[mask])\n",
    "    return Individual(genome)\n",
    "\n",
    "\n",
    "def inversion_mutation(p: Individual) -> Individual:\n",
    "    a, b = np.random.randint(0, p.genome.size-1), np.random.randint(0, p.genome.size-1)\n",
    "    l1, l2 = min(a, b), max(a, b)\n",
    "    \n",
    "    genome = p.genome.copy()\n",
    "    genome = np.roll(genome, -l1)\n",
    "    genome[:l2-l1+1] = genome[:l2-l1+1][::-1]\n",
    "    \n",
    "    return Individual(genome)\n",
    "\n",
    "\n",
    "def swap_mutation(p: Individual) -> Individual:\n",
    "    l1, l2 = map(np.random.randint, [0,0], [p.genome.size, p.genome.size])\n",
    "    genome = p.genome.copy()\n",
    "    genome[l1], genome[l2] = genome[l2], genome[l1]\n",
    "    return Individual(genome)"
   ]
  },
  {
   "cell_type": "markdown",
   "metadata": {},
   "source": [
    "#### Operators selection"
   ]
  },
  {
   "cell_type": "code",
   "execution_count": null,
   "metadata": {},
   "outputs": [],
   "source": [
    "xover = inver_over_xover\n",
    "mutation = inversion_mutation"
   ]
  },
  {
   "cell_type": "markdown",
   "metadata": {},
   "source": [
    "## Greedy"
   ]
  },
  {
   "cell_type": "code",
   "execution_count": null,
   "metadata": {},
   "outputs": [],
   "source": [
    "def greedy_solve(coordinates, dist_matrix, city, rnd):\n",
    "    \"\"\"Greedy algorithm with random initialization: sub-optimal\"\"\"\n",
    "    temp = dist_matrix.copy()\n",
    "    \n",
    "    num_cities = len(coordinates)\n",
    "    visited = np.full(num_cities, False)\n",
    "    \n",
    "    solution = -np.ones(num_cities+1, dtype=np.int16)\n",
    "    solution[0], visited[0] = city, True\n",
    "    for step in range(num_cities-1):\n",
    "        temp[:, city] = np.inf\n",
    "        \n",
    "        selected = 0\n",
    "        sorted_indexes = np.argsort(temp[city])\n",
    "        while rnd and np.random.rand() < 0.2 and selected < num_cities - step - 2:\n",
    "            selected += 1\n",
    "            \n",
    "        city = sorted_indexes[selected]\n",
    "            \n",
    "        solution[step+1] = city\n",
    "        visited[city] = True\n",
    "        \n",
    "    solution[-1] = solution[0]\n",
    "    #print(solution[:-1])\n",
    "    assert set(solution[:-1]) == set(range(num_cities))\n",
    "    \n",
    "    return solution, -cost(solution, dist_matrix)"
   ]
  },
  {
   "cell_type": "code",
   "execution_count": null,
   "metadata": {},
   "outputs": [],
   "source": [
    "def greedy_init(coordinates, dist_matrix, rnd=False):\n",
    "    \n",
    "    best_fitness, best_sol = -np.inf, None\n",
    "    solutions =  []\n",
    "    for start in tqdm(range(coordinates.size)):\n",
    "        sol, fitness_sol = greedy_solve(coordinates, dist_matrix, start, rnd)\n",
    "        solutions.append(sol[:-1])\n",
    "        \n",
    "        if fitness_sol > best_fitness:\n",
    "            best_fitness, best_sol = fitness_sol, sol\n",
    "            \n",
    "    assert best_sol is not None\n",
    "            \n",
    "    return solutions, best_fitness, best_sol"
   ]
  },
  {
   "cell_type": "markdown",
   "metadata": {},
   "source": [
    "## Evolutionary"
   ]
  },
  {
   "cell_type": "code",
   "execution_count": null,
   "metadata": {},
   "outputs": [],
   "source": [
    "def single_mutation(p: Individual):\n",
    "    from_pos = np.random.randint(p.genome.size)\n",
    "    to_pos = np.random.randint(p.genome.size)\n",
    "    genome = p.genome.copy()\n",
    "    genome[to_pos], genome[from_pos] = p.genome[from_pos], p.genome[to_pos]\n",
    "    return Individual(genome)"
   ]
  },
  {
   "cell_type": "code",
   "execution_count": null,
   "metadata": {},
   "outputs": [],
   "source": [
    "def evolutionary_solve(coordinates, dist_matrix: np.ndarray, start_population, pop_size, max_generations):\n",
    "    \n",
    "    OFFSPRING_SIZE = int(2*pop_size / 3)\n",
    "    \n",
    "    start_pop_len = len(start_population)\n",
    "    num_cities = len(coordinates)\n",
    "    population = [Individual(start_individual) for start_individual in start_population]\n",
    "    \n",
    "    for i in population:\n",
    "        i.fitness = fitness(i, dist_matrix)\n",
    "    \n",
    "    assert len(population) == start_pop_len and start_pop_len >= 0\n",
    "        \n",
    "    # Discard some individuals if too many wrt start ones\n",
    "    if start_pop_len > pop_size:\n",
    "        population = np.random.choice(population, size=pop_size, replace=False).tolist()\n",
    "        np.random.shuffle(population)\n",
    "        \n",
    "    # Extend population if needed more individuals than start population\n",
    "    elif start_pop_len < pop_size:\n",
    "        population.extend(\n",
    "            [Individual(np.random.permutation(num_cities)) for _ in range(pop_size - start_pop_len)]\n",
    "        )\n",
    "        \n",
    "        # Compute fitness for new individuals\n",
    "        for i in population[start_pop_len:]:\n",
    "            i.fitness = fitness(i, dist_matrix)\n",
    "    \n",
    "    champions = [max(population, key=lambda i: i.fitness).fitness]\n",
    "    \n",
    "    for _ in tqdm(range(max_generations)):\n",
    "        offspring = []\n",
    "        for _ in range(OFFSPRING_SIZE):\n",
    "            if np.random.random() < 0.1:\n",
    "                p = parent_selection(population)\n",
    "                o = mutation(p)\n",
    "            else:\n",
    "                p1 = parent_selection(population)\n",
    "                p2 = parent_selection(population)\n",
    "                o = xover(p1, p2)\n",
    "            \n",
    "            offspring.append(o)\n",
    "        \n",
    "        for i in offspring:\n",
    "            i.fitness = fitness(i, dist_matrix)\n",
    "            \n",
    "        population.extend(offspring)\n",
    "        \n",
    "        # Elitism + generational model\n",
    "        # population.sort(key=lambda i: i.fitness, reverse=True)\n",
    "        # population = population[:RETAIN_SIZE_ELITIST]\n",
    "        \n",
    "        # Survivor selection\n",
    "        population.sort(key=lambda i: i.fitness, reverse=True)\n",
    "        population = population[:pop_size]\n",
    "        \n",
    "        champions.append(population[0].fitness)\n",
    "    \n",
    "    return population[0].genome, population[0].fitness, champions"
   ]
  },
  {
   "cell_type": "markdown",
   "metadata": {},
   "source": [
    "## Solver"
   ]
  },
  {
   "cell_type": "code",
   "execution_count": null,
   "metadata": {},
   "outputs": [],
   "source": [
    "MAX_GENERATIONS = [100, 1000, 2000, 2000, 5000]\n",
    "POPULATION_SIZES = [100, 100, 200, 200, 200]"
   ]
  },
  {
   "cell_type": "code",
   "execution_count": null,
   "metadata": {},
   "outputs": [],
   "source": [
    "def solve(PATH, INSTANCES):\n",
    "    for (INSTANCE, BEST_RESULT, MAX_GEN, POP_SIZE) in list(zip(INSTANCES, BEST_RESULTS, MAX_GENERATIONS, POPULATION_SIZES)):\n",
    "        \n",
    "        print(f\"Instance {INSTANCE}\")\n",
    "        \n",
    "        cities = pd.read_csv(f\"{PATH}{INSTANCE}\", header=None, names=[\"name\", \"lat\", \"lon\"])\n",
    "        \n",
    "        coordinates = np.array([City(city.name, city.lat, city.lon) for city in cities.itertuples()])\n",
    "        dist_matrix = distance_matrix(coordinates)\n",
    "        \n",
    "        _, fitness_greedy, _ = greedy_init(coordinates, dist_matrix, rnd=False)\n",
    "        greedy_solutions, _, _ = greedy_init(coordinates, dist_matrix, rnd=True)\n",
    "        calls_greedy = len(coordinates)\n",
    "        \n",
    "        _, fitness_ea, champions = evolutionary_solve(coordinates, dist_matrix, greedy_solutions, POP_SIZE, MAX_GEN)\n",
    "        best_ea = max(champions)\n",
    "        \n",
    "        plt.figure(figsize=(14,8))\n",
    "        plt.plot(champions, color=\"blue\")\n",
    "        plt.scatter(range(len(champions)), champions, marker=\".\", color=\"blue\")\n",
    "        plt.hlines(fitness_greedy, xmin=0, xmax=len(champions), linestyles=\"-\", color=\"red\")\n",
    "        if BEST_RESULT is not None:\n",
    "            plt.hlines(BEST_RESULT, xmin=0, xmax=len(champions), linestyles=\"-\", color=\"darkgreen\")\n",
    "        plt.show()\n",
    "        \n",
    "        print(f\"Greedy solution: {fitness_greedy:.3f}\\nCost calls: {calls_greedy}\")\n",
    "        print(f\"EA solution: {fitness_ea:.3f}\")\n",
    "        print(f\"Best solution: {F'{BEST_RESULT:.3f}' if BEST_RESULT is not None else '-'}\")\n",
    "        print(f\"Number of steps: {champions.index(best_ea)}\")"
   ]
  },
  {
   "cell_type": "code",
   "execution_count": null,
   "metadata": {},
   "outputs": [],
   "source": [
    "solve(PATH, INSTANCES)"
   ]
  }
 ],
 "metadata": {
  "kernelspec": {
   "display_name": "venv",
   "language": "python",
   "name": "python3"
  },
  "language_info": {
   "codemirror_mode": {
    "name": "ipython",
    "version": 3
   },
   "file_extension": ".py",
   "mimetype": "text/x-python",
   "name": "python",
   "nbconvert_exporter": "python",
   "pygments_lexer": "ipython3",
   "version": "3.11.8"
  }
 },
 "nbformat": 4,
 "nbformat_minor": 2
}
